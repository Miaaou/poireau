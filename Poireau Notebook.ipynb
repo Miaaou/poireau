{
 "cells": [
  {
   "cell_type": "markdown",
   "metadata": {},
   "source": [
    "# Discovering the Poireau project"
   ]
  },
  {
   "cell_type": "markdown",
   "metadata": {},
   "source": [
    "Execute each cell by selecting it ang pressing ctrl + enter or shift + enter.\n",
    "\n",
    "The main model is the Song. The Song model can create songs by exploring a folder that contains songs (a song is a folder that contains a musicxml file).\n",
    "\n",
    "Songs will be looked in the path specified in poireau/common/settings.py in the variable SONGS_FOLDER (feel free to change this ). If you have a Dropbox synchronized with the files in it, please don't reference its path directly because it may do unwanted modifications, but copy it and reference the path of your local copy."
   ]
  },
  {
   "cell_type": "code",
   "execution_count": null,
   "metadata": {
    "collapsed": false
   },
   "outputs": [],
   "source": [
    "# Current language will be used for a few names, so we set it to French here.\n",
    "from __future__ import unicode_literals\n",
    "from django.utils import translation\n",
    "translation.activate(\"fr\")"
   ]
  },
  {
   "cell_type": "markdown",
   "metadata": {},
   "source": [
    "Browse the directory for XML scores"
   ]
  },
  {
   "cell_type": "code",
   "execution_count": null,
   "metadata": {
    "collapsed": false,
    "scrolled": false
   },
   "outputs": [],
   "source": [
    "from poireau.common.utils import FilesManager\n",
    "from poireau.songs.utils.xml_song import FoundSong\n",
    "\n",
    "files_manager = FilesManager()\n",
    "\n",
    "folder = \"test_songs\"\n",
    "\n",
    "found_songs = [\n",
    "    FoundSong(dir_path, file_name, files_manager)\n",
    "    for dir_path, __, file_names in files_manager.walk(folder)\n",
    "    for file_name in file_names\n",
    "    if file_name.endswith(\".xml\")\n",
    "]"
   ]
  },
  {
   "cell_type": "markdown",
   "metadata": {},
   "source": [
    "You can check that songs were succesfully created"
   ]
  },
  {
   "cell_type": "code",
   "execution_count": null,
   "metadata": {
    "collapsed": false
   },
   "outputs": [],
   "source": [
    "for file in found_songs:\n",
    "    print(file)"
   ]
  },
  {
   "cell_type": "markdown",
   "metadata": {},
   "source": [
    "We are going to use the first song in the list in this example"
   ]
  },
  {
   "cell_type": "code",
   "execution_count": null,
   "metadata": {
    "collapsed": false
   },
   "outputs": [],
   "source": [
    "test_song = found_songs[0]\n",
    "print(test_song)"
   ]
  },
  {
   "cell_type": "markdown",
   "metadata": {},
   "source": [
    "You can check that song parts were also created"
   ]
  },
  {
   "cell_type": "code",
   "execution_count": null,
   "metadata": {
    "collapsed": false
   },
   "outputs": [],
   "source": [
    "test_song.xml_parts"
   ]
  },
  {
   "cell_type": "markdown",
   "metadata": {},
   "source": [
    "Instantiate a converter from the FoundSong data"
   ]
  },
  {
   "cell_type": "code",
   "execution_count": null,
   "metadata": {
    "collapsed": false
   },
   "outputs": [],
   "source": [
    "import music21\n",
    "\n",
    "converter = music21.converter.parseData(test_song.file_content.decode(\"utf-8\"))"
   ]
  },
  {
   "cell_type": "markdown",
   "metadata": {},
   "source": [
    "Or from the file path (but why you would do that?)"
   ]
  },
  {
   "cell_type": "code",
   "execution_count": null,
   "metadata": {
    "collapsed": true
   },
   "outputs": [],
   "source": [
    "#converter = music21.converter.parseFile(test_song.dir_path + \"/\" + test_song.file_name)"
   ]
  },
  {
   "cell_type": "markdown",
   "metadata": {},
   "source": [
    "Generate a PDF file using Lilypond"
   ]
  },
  {
   "cell_type": "code",
   "execution_count": null,
   "metadata": {
    "collapsed": false
   },
   "outputs": [],
   "source": [
    "output_pdf_file_name = \"output/test.ly\"\n",
    "converter.write(\"lily.pdf\", output_pdf_file_name)"
   ]
  },
  {
   "cell_type": "code",
   "execution_count": null,
   "metadata": {
    "collapsed": true
   },
   "outputs": [],
   "source": [
    "And generate a MIDI file"
   ]
  },
  {
   "cell_type": "code",
   "execution_count": null,
   "metadata": {
    "collapsed": false
   },
   "outputs": [],
   "source": [
    "output_midi_file_name = \"output/test.mid\"\n",
    "converter.write(\"midi\", output_midi_file_name)"
   ]
  }
 ],
 "metadata": {
  "kernelspec": {
   "display_name": "Django Shell-Plus",
   "language": "python",
   "name": "django_extensions"
  },
  "language_info": {
   "codemirror_mode": {
    "name": "ipython",
    "version": 3
   },
   "file_extension": ".py",
   "mimetype": "text/x-python",
   "name": "python",
   "nbconvert_exporter": "python",
   "pygments_lexer": "ipython3",
   "version": "3.5.1"
  }
 },
 "nbformat": 4,
 "nbformat_minor": 0
}
