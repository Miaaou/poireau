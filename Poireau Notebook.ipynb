{
 "metadata": {
  "name": "",
  "signature": "sha256:bac5c99352f5b0a43f1b6b5aabc45c54533c5ac5a8db58830376a4d0c7937dd6"
 },
 "nbformat": 3,
 "nbformat_minor": 0,
 "worksheets": [
  {
   "cells": [
    {
     "cell_type": "heading",
     "level": 1,
     "metadata": {},
     "source": [
      "Discovering the Poireau project"
     ]
    },
    {
     "cell_type": "markdown",
     "metadata": {},
     "source": [
      "Execute each cell by selecting it ang pressing ctrl_enter.\n",
      "\n",
      "The main model is the Song. The Song model can create songs by exploring a folder that contains songs (a song is a folder that contains a musicxml file).\n",
      "\n",
      "Songs will be looked in the path specified in poireau/common/settings.py in the variable SONGS_FOLDER (feel free to change this ). If you have a Dropbox synchronized with the files in it, please don't reference its path directly because it may do unwanted modifications, but copy it and reference the path of your local copy."
     ]
    },
    {
     "cell_type": "code",
     "collapsed": false,
     "input": [
      "Song.discover_songs_changes()"
     ],
     "language": "python",
     "metadata": {},
     "outputs": []
    },
    {
     "cell_type": "markdown",
     "metadata": {},
     "source": [
      "You can check that songs were succesfully created"
     ]
    },
    {
     "cell_type": "code",
     "collapsed": false,
     "input": [
      "Song.objects.all()"
     ],
     "language": "python",
     "metadata": {},
     "outputs": []
    },
    {
     "cell_type": "markdown",
     "metadata": {},
     "source": [
      "And that song parts were also created"
     ]
    },
    {
     "cell_type": "code",
     "collapsed": false,
     "input": [
      "song = Song.objects.first()"
     ],
     "language": "python",
     "metadata": {},
     "outputs": []
    },
    {
     "cell_type": "code",
     "collapsed": false,
     "input": [
      "song.parts.all()"
     ],
     "language": "python",
     "metadata": {},
     "outputs": []
    },
    {
     "cell_type": "markdown",
     "metadata": {},
     "source": [
      "A song can export itself in pdf and midi format"
     ]
    },
    {
     "cell_type": "code",
     "collapsed": false,
     "input": [
      "song.export()"
     ],
     "language": "python",
     "metadata": {},
     "outputs": []
    },
    {
     "cell_type": "markdown",
     "metadata": {},
     "source": [
      "A song can be modified and then exported. Modifications are not saved."
     ]
    },
    {
     "cell_type": "code",
     "collapsed": false,
     "input": [
      "song.remove_xml_part(song.xml_parts[0])"
     ],
     "language": "python",
     "metadata": {},
     "outputs": []
    },
    {
     "cell_type": "code",
     "collapsed": false,
     "input": [
      "song.export()"
     ],
     "language": "python",
     "metadata": {},
     "outputs": []
    },
    {
     "cell_type": "code",
     "collapsed": false,
     "input": [],
     "language": "python",
     "metadata": {},
     "outputs": []
    }
   ],
   "metadata": {}
  }
 ]
}